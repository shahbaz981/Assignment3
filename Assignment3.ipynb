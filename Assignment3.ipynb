{
 "cells": [
  {
   "cell_type": "code",
   "execution_count": 19,
   "id": "6e945500-c307-4c90-a32a-b13691f11fe4",
   "metadata": {},
   "outputs": [
    {
     "name": "stdout",
     "output_type": "stream",
     "text": [
      "[('Virat Kohli', 24936), ('Jack Kallis', 25534), ('Ricky Ponting', 27483), ('Sachin Tendulkar', 34357)]"
     ]
    }
   ],
   "source": [
    "'''[Q1-answer:-]''' \n",
    "\n",
    "#Create a python program to sort the given list of tuples based on integer value using a lambda function.\n",
    "l=[('Sachin Tendulkar', 34357), ('Ricky Ponting', 27483), ('Jack Kallis', 25534), ('Virat Kohli', 24936)]\n",
    "l.sort(key=lambda x:x[1])\n",
    "print(l,end='')"
   ]
  },
  {
   "cell_type": "code",
   "execution_count": 21,
   "id": "f0eef6ae-6aae-4ce4-a2a1-8ffbe500ea7a",
   "metadata": {},
   "outputs": [
    {
     "name": "stdin",
     "output_type": "stream",
     "text": [
      "enter the number, for example 10 10\n"
     ]
    },
    {
     "name": "stdout",
     "output_type": "stream",
     "text": [
      "[1, 2, 3, 4, 5, 6, 7, 8, 9, 10]\n",
      "[1, 4, 9, 16, 25, 36, 49, 64, 81, 100]\n"
     ]
    }
   ],
   "source": [
    "'''[Q2-answer:-]''' \n",
    "\n",
    "#Write a Python Program to find the squares of all the numbers in the given list of integers using lambda and map functions.\n",
    "number=int(input(\"enter the number, for example 10\"))\n",
    "l=[]\n",
    "for i in range(1,number+1):\n",
    "    l.append(i)\n",
    "print(l) #here to show the list of number\n",
    "print(list(map(lambda x:x**2,l)))  #here to show the square of number in the list"
   ]
  },
  {
   "cell_type": "code",
   "execution_count": 22,
   "id": "bb7f2b30-b8d0-48b1-ba3d-750a1ee58c40",
   "metadata": {},
   "outputs": [
    {
     "name": "stdin",
     "output_type": "stream",
     "text": [
      "enter the number, for example 10 10\n"
     ]
    },
    {
     "name": "stdout",
     "output_type": "stream",
     "text": [
      "[1, 2, 3, 4, 5, 6, 7, 8, 9, 10]\n",
      "('1', '2', '3', '4', '5', '6', '7', '8', '9', '10')"
     ]
    }
   ],
   "source": [
    "'''[Q3-answer:-]'''\n",
    "\n",
    "#Write a python program to convert the given list of integers into a tuple of strings. Use map and lambda functions\n",
    "number=int(input(\"enter the number, for example 10\"))\n",
    "l=[]\n",
    "for i in range(1,number+1):\n",
    "    l.append(i)\n",
    "print(l) #here to show the list of number\n",
    "print(tuple((map(lambda x:str(x),l))),end='') #here to show to given list of integers into a typle of strings"
   ]
  },
  {
   "cell_type": "code",
   "execution_count": 6,
   "id": "9853e233-9583-4634-a122-e55dc0aa4f72",
   "metadata": {},
   "outputs": [
    {
     "name": "stdin",
     "output_type": "stream",
     "text": [
      "enter the number, for example 10 5\n"
     ]
    },
    {
     "name": "stdout",
     "output_type": "stream",
     "text": [
      "[1, 2, 3, 4, 5]\n",
      "120\n"
     ]
    }
   ],
   "source": [
    "'''[Q4-answer:-]'''\n",
    "\n",
    "#Write a python program using reduce function to compute the product of a list containing numbers from 1 to 25.\n",
    "from functools import reduce\n",
    "number=int(input(\"enter the number, for example 25\"))\n",
    "l=[]\n",
    "for i in range(1,number+1):\n",
    "    l.append(i)\n",
    "print(l) #here to show the list of numebr\n",
    "print(reduce(lambda x,y:x*y,l)) #here to show the product of list"
   ]
  },
  {
   "cell_type": "code",
   "execution_count": 14,
   "id": "2db09a5d-a783-42b6-8ffd-b9dfce6f5015",
   "metadata": {},
   "outputs": [
    {
     "name": "stdin",
     "output_type": "stream",
     "text": [
      "enter the number, for example 25 25\n"
     ]
    },
    {
     "name": "stdout",
     "output_type": "stream",
     "text": [
      "[1, 2, 3, 4, 5, 6, 7, 8, 9, 10, 11, 12, 13, 14, 15, 16, 17, 18, 19, 20, 21, 22, 23, 24, 25]\n",
      "[2, 3, 4, 6, 8, 9, 10, 12, 14, 15, 16, 18, 20, 21, 22, 24]\n",
      "[2, 3, 6, 9, 27, 60, 90, 120, 46]\n"
     ]
    }
   ],
   "source": [
    "'''[Q5-answer:-]'''\n",
    "\n",
    "#Write a python program to filter the numbers in a given list that are divisible by 2 and 3 using the filter function.\n",
    "'''number=int(input(\"enter the number, for example 25\"))\n",
    "l=[]\n",
    "for i in range(1,number+1):    #here to take input by user\n",
    "    l.append(i)\n",
    "print(l)\n",
    "print(list(filter(lambda x:x%2==0 or x%3==0,l)))\n",
    "\n",
    "                    or'''\n",
    "\n",
    "l=[2, 3, 6, 9, 27, 60, 90, 120, 55, 46]  #here take input without user\n",
    "print(list(filter(lambda x:x%2==0 or x%3==0,l)))"
   ]
  },
  {
   "cell_type": "code",
   "execution_count": 18,
   "id": "f8027a90-61de-489b-a04e-1d28ada92d9a",
   "metadata": {},
   "outputs": [
    {
     "name": "stdout",
     "output_type": "stream",
     "text": [
      "['php', 'aba', 'radar', 'level']\n"
     ]
    }
   ],
   "source": [
    "'''[Q6-answer:-]'''\n",
    "\n",
    "#Write a python program to find palindromes in the given list of strings using lambda and filter function.\n",
    "l=['python', 'php', 'aba', 'radar', 'level']\n",
    "print(list((filter(lambda x : x==x[::-1],l))))"
   ]
  },
  {
   "cell_type": "code",
   "execution_count": null,
   "id": "c6e0337c-811a-48bc-b820-5172625e2fae",
   "metadata": {},
   "outputs": [],
   "source": []
  }
 ],
 "metadata": {
  "kernelspec": {
   "display_name": "Python 3 (ipykernel)",
   "language": "python",
   "name": "python3"
  },
  "language_info": {
   "codemirror_mode": {
    "name": "ipython",
    "version": 3
   },
   "file_extension": ".py",
   "mimetype": "text/x-python",
   "name": "python",
   "nbconvert_exporter": "python",
   "pygments_lexer": "ipython3",
   "version": "3.10.8"
  }
 },
 "nbformat": 4,
 "nbformat_minor": 5
}
